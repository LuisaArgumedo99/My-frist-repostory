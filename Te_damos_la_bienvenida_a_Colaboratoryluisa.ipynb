{
  "cells": [
    {
      "cell_type": "markdown",
      "metadata": {
        "id": "view-in-github",
        "colab_type": "text"
      },
      "source": [
        "<a href=\"https://colab.research.google.com/github/LuisaArgumedo99/My-frist-repostory/blob/main/Te_damos_la_bienvenida_a_Colaboratoryluisa.ipynb\" target=\"_parent\"><img src=\"https://colab.research.google.com/assets/colab-badge.svg\" alt=\"Open In Colab\"/></a>"
      ]
    },
    {
      "cell_type": "code",
      "source": [
        "#expesiones booleanas\n",
        "print((3>5)and(5==6))\n",
        "print((4<=6)or(7!=8))\n",
        "print((4 + 2 * 6 > 20 - 5 **2) and not (7 * 9 < 2 + 3 ** 5))\n"
      ],
      "metadata": {
        "colab": {
          "base_uri": "https://localhost:8080/"
        },
        "id": "Dtc1OBZksmpP",
        "outputId": "64d986d2-be87-4684-fe99-fd6a44d3f7f5"
      },
      "execution_count": null,
      "outputs": [
        {
          "output_type": "stream",
          "name": "stdout",
          "text": [
            "False\n",
            "True\n",
            "False\n"
          ]
        }
      ]
    },
    {
      "cell_type": "code",
      "source": [],
      "metadata": {
        "id": "6iXRu42bB5pO"
      },
      "execution_count": null,
      "outputs": []
    },
    {
      "cell_type": "code",
      "source": [
        "# condicional basico ( simple )\n",
        "age = int ( input ( \"inres su edad\"))\n",
        "\n",
        "if age >= 18:\n",
        "  input(\"eres mayor de edad\")\n",
        "else:\n",
        "  print(\"eres menor de edad \")\n"
      ],
      "metadata": {
        "colab": {
          "base_uri": "https://localhost:8080/"
        },
        "id": "E_wlN1z9yDGD",
        "outputId": "38c44fb8-ce0c-4a84-ae72-0247cc1dd829"
      },
      "execution_count": null,
      "outputs": [
        {
          "name": "stdout",
          "output_type": "stream",
          "text": [
            "inres su edad23\n",
            "eres mayor de edad23\n"
          ]
        }
      ]
    },
    {
      "cell_type": "code",
      "source": [
        "# condicional Dual\n",
        "age =int(input(\"ingrese su edad: \"))\n",
        "\n",
        "if age >= 23:\n",
        "  print(\"eres mayor de edad\")\n",
        "else :\n",
        "   print(\"eres menor de edad\")\n"
      ],
      "metadata": {
        "colab": {
          "base_uri": "https://localhost:8080/"
        },
        "id": "HkL9i3i_zZTS",
        "outputId": "215b7d60-32fb-444e-bdc7-cf39a856a4f5"
      },
      "execution_count": null,
      "outputs": [
        {
          "output_type": "stream",
          "name": "stdout",
          "text": [
            "ingrese su edad: 23\n",
            "eres mayor de edad\n"
          ]
        }
      ]
    },
    {
      "cell_type": "code",
      "source": [
        "# condicional multiple\n",
        "age = int(input(\"ngrese su edad:\"))\n",
        "\n",
        "if age < 18:\n",
        "  print(\"eres joven\")\n",
        "elif age < 30:\n",
        "    print(\"eres adulto joven\")\n",
        "else:\n",
        "      print(\"estas viejo\")"
      ],
      "metadata": {
        "colab": {
          "base_uri": "https://localhost:8080/"
        },
        "id": "h4NP_B0h1abI",
        "outputId": "a1b15f1b-5a5f-4885-c3a2-ed76df6752a9"
      },
      "execution_count": null,
      "outputs": [
        {
          "output_type": "stream",
          "name": "stdout",
          "text": [
            "ngrese su edad:23\n",
            "eres adulto joven\n"
          ]
        }
      ]
    },
    {
      "cell_type": "code",
      "source": [
        "a = 5\n",
        "b = 3\n",
        "c = 10\n",
        "\n",
        "a = int(input(\"ingrese el primer numero: \"))\n",
        "b = int(input(\"ingrese el segundo numero:\"))\n",
        "c = int(input(\"ingrese el tercer numero: \"))\n",
        "\n",
        "if a >= b:\n",
        "  if a >= c:\n",
        "    print(\"a es el mayor:\", a)\n",
        "  else:\n",
        "    print(\"c es el mayor:\", c)\n",
        "else:\n",
        "  if b >=c:\n",
        "    print(\"b es el mayor:\", b)\n",
        "  else:\n",
        "    print(\"c es el mayor:\", c)"
      ],
      "metadata": {
        "colab": {
          "base_uri": "https://localhost:8080/"
        },
        "id": "84LAOKtE38Dx",
        "outputId": "da3e6b51-f59b-4033-fd76-68e77bbe30dd"
      },
      "execution_count": null,
      "outputs": [
        {
          "output_type": "stream",
          "name": "stdout",
          "text": [
            "ingrese el primer numero: 4\n",
            "ingrese el segundo numero:5\n",
            "ingrese el tercer numero: 6\n",
            "c es el mayor: 6\n"
          ]
        }
      ]
    },
    {
      "cell_type": "code",
      "source": [
        "# grade = 3.2\n",
        "grade = float(input(\"ingrese su nota: \"))\n",
        "\n",
        "if grade >= 4.5:\n",
        " print(\"Crack\")\n",
        "elif grade >= 4.0:\n",
        " print(\"excelente\")\n",
        "elif grade >= 3.5:\n",
        " print(\"bien\")\n",
        "elif grade >= 3.0:\n",
        " print(\"regular\")\n",
        "else:\n",
        " print(\"malo\")\n"
      ],
      "metadata": {
        "colab": {
          "base_uri": "https://localhost:8080/"
        },
        "id": "tA0Y8HFM6GUY",
        "outputId": "fcf67ce5-d924-4865-db5a-d8ee79f27610"
      },
      "execution_count": null,
      "outputs": [
        {
          "output_type": "stream",
          "name": "stdout",
          "text": [
            "ingrese su nota: 2.5\n",
            "malo\n"
          ]
        }
      ]
    },
    {
      "cell_type": "code",
      "source": [
        "num = int(input(\"ingrese un numero: \"))\n",
        "\n",
        "if num % 2 == 0:\n",
        "  print(\"El numero es par\")\n",
        "else:\n",
        "  print(\"el numero es impar\")\n",
        "\n",
        "  #  print(\"es par\") if num % 2 == 0 else print(\"es impar\")"
      ],
      "metadata": {
        "colab": {
          "base_uri": "https://localhost:8080/"
        },
        "id": "lYxJ8C819X6v",
        "outputId": "a63b4307-82e1-4de6-d2bb-146bb95ac650"
      },
      "execution_count": null,
      "outputs": [
        {
          "output_type": "stream",
          "name": "stdout",
          "text": [
            "ingrese un numero: 5\n",
            "el numero es impar\n"
          ]
        }
      ]
    },
    {
      "cell_type": "code",
      "source": [
        "from random import choice\n",
        "\n",
        "print(\"¿cara o sello?\")\n",
        "print(\"1. cara\")\n",
        "print(\"2. sello\")\n",
        "cumputer = choice ([1, 2 ])\n",
        "my_choice = int(input())\n",
        "\n",
        "if computer == my_choice:\n",
        "  print(\"Ganarte\")\n",
        "else:\n",
        "  print(\"Perdiste\")"
      ],
      "metadata": {
        "colab": {
          "base_uri": "https://localhost:8080/"
        },
        "id": "MZW86F0M-8F4",
        "outputId": "19ef4446-af8d-403c-a696-abf666968649"
      },
      "execution_count": null,
      "outputs": [
        {
          "output_type": "stream",
          "name": "stdout",
          "text": [
            "¿cara o sello?\n",
            "1. cara\n",
            "2. sello\n"
          ]
        }
      ]
    },
    {
      "cell_type": "code",
      "source": [],
      "metadata": {
        "id": "PfavmfvlBDuF"
      },
      "execution_count": null,
      "outputs": []
    }
  ],
  "metadata": {
    "colab": {
      "name": "Te damos la bienvenida a Colaboratoryluisa",
      "provenance": [],
      "toc_visible": true,
      "include_colab_link": true
    },
    "kernelspec": {
      "display_name": "Python 3",
      "name": "python3"
    }
  },
  "nbformat": 4,
  "nbformat_minor": 0
}