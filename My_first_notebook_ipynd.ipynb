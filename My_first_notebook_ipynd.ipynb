{
  "nbformat": 4,
  "nbformat_minor": 0,
  "metadata": {
    "colab": {
      "provenance": [],
      "authorship_tag": "ABX9TyNUAC/NdYvqjxuJGPBJpodl",
      "include_colab_link": true
    },
    "kernelspec": {
      "name": "python3",
      "display_name": "Python 3"
    },
    "language_info": {
      "name": "python"
    }
  },
  "cells": [
    {
      "cell_type": "markdown",
      "metadata": {
        "id": "view-in-github",
        "colab_type": "text"
      },
      "source": [
        "<a href=\"https://colab.research.google.com/github/LuisaArgumedo99/My-frist-repostory/blob/main/My_first_notebook_ipynd.ipynb\" target=\"_parent\"><img src=\"https://colab.research.google.com/assets/colab-badge.svg\" alt=\"Open In Colab\"/></a>"
      ]
    },
    {
      "cell_type": "code",
      "execution_count": 10,
      "metadata": {
        "colab": {
          "base_uri": "https://localhost:8080/"
        },
        "id": "4cGPAdr-lhCR",
        "outputId": "8ddc3915-a98d-4832-a0ac-65d1516d51c5"
      },
      "outputs": [
        {
          "output_type": "stream",
          "name": "stdout",
          "text": [
            " Hola  luisa\n",
            "24\n",
            "8\n"
          ]
        }
      ],
      "source": [
        "# prompt: name = \" luisa\"\n",
        "# print ( \" Hola\" , name)\n",
        "# a = 3\n",
        "# b = 5\n",
        "# c = a * d\n",
        "# d = a + b\n",
        "# print (c)\n",
        "# print(d)\n",
        "\n",
        "name = \" luisa\"\n",
        "print ( \" Hola\" , name)\n",
        "a = 3\n",
        "b = 5\n",
        "d = a + b\n",
        "c = a * d # This line was modified, d was not defined before being used.\n",
        "print (c)\n",
        "print(d)\n"
      ]
    },
    {
      "cell_type": "code",
      "source": [],
      "metadata": {
        "id": "kxpg6WW_utOD"
      },
      "execution_count": 9,
      "outputs": []
    }
  ]
}